{
 "cells": [
  {
   "cell_type": "code",
   "execution_count": 1,
   "metadata": {},
   "outputs": [],
   "source": [
    "import tensorflow as tf\n",
    "from tensorflow.python.client import device_lib"
   ]
  },
  {
   "cell_type": "code",
   "execution_count": 2,
   "metadata": {},
   "outputs": [
    {
     "data": {
      "text/plain": [
       "[PhysicalDevice(name='/physical_device:GPU:0', device_type='GPU')]"
      ]
     },
     "execution_count": 2,
     "metadata": {},
     "output_type": "execute_result"
    }
   ],
   "source": [
    "tf.config.list_physical_devices('GPU')"
   ]
  },
  {
   "cell_type": "code",
   "execution_count": 3,
   "metadata": {},
   "outputs": [
    {
     "data": {
      "text/plain": [
       "[name: \"/device:CPU:0\"\n",
       " device_type: \"CPU\"\n",
       " memory_limit: 268435456\n",
       " locality {\n",
       " }\n",
       " incarnation: 1785765080772677405\n",
       " xla_global_id: -1,\n",
       " name: \"/device:GPU:0\"\n",
       " device_type: \"GPU\"\n",
       " memory_limit: 3663069184\n",
       " locality {\n",
       "   bus_id: 1\n",
       "   links {\n",
       "   }\n",
       " }\n",
       " incarnation: 16032249369564632949\n",
       " physical_device_desc: \"device: 0, name: NVIDIA GeForce RTX 3060 Laptop GPU, pci bus id: 0000:01:00.0, compute capability: 8.6\"\n",
       " xla_global_id: 416903419]"
      ]
     },
     "execution_count": 3,
     "metadata": {},
     "output_type": "execute_result"
    }
   ],
   "source": [
    "device_lib.list_local_devices()"
   ]
  },
  {
   "cell_type": "markdown",
   "metadata": {
    "execution": {
     "iopub.execute_input": "2021-06-11T11:27:10.587275Z",
     "iopub.status.busy": "2021-06-11T11:27:10.586794Z",
     "iopub.status.idle": "2021-06-11T11:27:10.611054Z",
     "shell.execute_reply": "2021-06-11T11:27:10.609325Z",
     "shell.execute_reply.started": "2021-06-11T11:27:10.587182Z"
    }
   },
   "source": [
    "<center><h1>Dogs🐶 Vs Cats🐱</h1></center>\n",
    "\n",
    "<img src =\"https://storage.googleapis.com/kaggle-competitions/kaggle/3362/media/woof_meow.jpg\">\n",
    "    \n",
    "Problem Statement : \n",
    "    \n",
    "    Create an algorithm to classify whether images contain either dog or a cat.\n",
    "    \n",
    "More Insights About PS : \n",
    "    \n",
    "    Web services are often protected with a challenge that's supposed to be easy for people to solve, but difficult for computers. Such a challenge is often called a CAPTCHA (Completely Automated Public Turing test to tell Computers and Humans Apart) or HIP (Human Interactive Proof). HIPs are used for many purposes, such as to reduce email and blog spam and prevent brute-force attacks on web site passwords.\n",
    "    \n",
    "Application Area : \n",
    "    \n",
    "    CAPTCHA Application \n",
    "\n",
    "\n",
    "*I am new in Computer Vision field any feedback is much appreciated !"
   ]
  },
  {
   "cell_type": "markdown",
   "metadata": {},
   "source": [
    "Flow of this Notebook :\n",
    "\n",
    "    1. Import necessay libraries \n",
    "    \n",
    "    2. Prepare training dataset & Visualize it.\n",
    "    \n",
    "    3. Split dataset into training and validation set\n",
    "    \n",
    "    4. Build a predictive model\n",
    "    \n",
    "    5. Fit the predictive model onto the training data\n",
    "    \n",
    "    6. Prepare testing dataset & Visualize it.\n",
    "    \n",
    "    7. Predict on testing data\n",
    "    \n",
    "    8. Submission "
   ]
  },
  {
   "cell_type": "markdown",
   "metadata": {},
   "source": [
    "# **1. IMPORTING NECESSARY LIBRARIES** 📚 ⬇"
   ]
  },
  {
   "cell_type": "code",
   "execution_count": 4,
   "metadata": {
    "execution": {
     "iopub.execute_input": "2021-06-19T08:05:05.007128Z",
     "iopub.status.busy": "2021-06-19T08:05:05.006729Z",
     "iopub.status.idle": "2021-06-19T08:05:10.520481Z",
     "shell.execute_reply": "2021-06-19T08:05:10.519661Z",
     "shell.execute_reply.started": "2021-06-19T08:05:05.007044Z"
    }
   },
   "outputs": [],
   "source": [
    "import numpy as np\n",
    "import pandas as pd\n",
    "\n",
    "import os\n",
    "import random \n",
    "\n",
    "import matplotlib.pyplot as plt\n",
    "import seaborn as sns\n",
    "\n",
    "from keras.preprocessing import image\n",
    "from sklearn.model_selection import train_test_split"
   ]
  },
  {
   "cell_type": "markdown",
   "metadata": {},
   "source": [
    "# **2. PREPARING TRAINING DATA** 📁"
   ]
  },
  {
   "cell_type": "markdown",
   "metadata": {},
   "source": [
    "First thing first we need to create a dataset. Since the input is in file format."
   ]
  },
  {
   "cell_type": "code",
   "execution_count": 5,
   "metadata": {
    "execution": {
     "iopub.execute_input": "2021-06-19T08:05:10.522205Z",
     "iopub.status.busy": "2021-06-19T08:05:10.521872Z",
     "iopub.status.idle": "2021-06-19T08:05:26.564355Z",
     "shell.execute_reply": "2021-06-19T08:05:26.563527Z",
     "shell.execute_reply.started": "2021-06-19T08:05:10.522169Z"
    }
   },
   "outputs": [],
   "source": [
    "import zipfile\n",
    "\n",
    "with zipfile.ZipFile('../Dogs-Vs-Cats/Dataset/test1.zip', 'r') as zip_ref:\n",
    "    \n",
    "    zip_ref.extractall('./')\n",
    "    \n",
    "with zipfile.ZipFile('../Dogs-Vs-Cats/Dataset/train.zip', 'r') as zip_ref:\n",
    "    \n",
    "    zip_ref.extractall('./')"
   ]
  },
  {
   "cell_type": "code",
   "execution_count": 6,
   "metadata": {
    "execution": {
     "iopub.execute_input": "2021-06-19T08:05:26.566557Z",
     "iopub.status.busy": "2021-06-19T08:05:26.566211Z",
     "iopub.status.idle": "2021-06-19T08:05:26.603469Z",
     "shell.execute_reply": "2021-06-19T08:05:26.602762Z",
     "shell.execute_reply.started": "2021-06-19T08:05:26.566521Z"
    }
   },
   "outputs": [],
   "source": [
    "# Read input files to create training dataset\n",
    "filenames = os.listdir('./train')\n",
    "\n",
    "categories = []\n",
    "\n",
    "for filename in filenames:\n",
    "    \n",
    "    category = filename.split('.')[0]\n",
    "    \n",
    "    if(category == 'dog'):\n",
    "        \n",
    "        categories.append('dog')\n",
    "        \n",
    "    else:\n",
    "        \n",
    "        categories.append('cat')\n",
    "        \n",
    "# create a dataframe\n",
    "\n",
    "df = pd.DataFrame({\n",
    "        \n",
    "        'filename' : filenames,\n",
    "    \n",
    "        'category' : categories\n",
    "    \n",
    "    })"
   ]
  },
  {
   "cell_type": "code",
   "execution_count": 7,
   "metadata": {
    "execution": {
     "iopub.execute_input": "2021-06-19T08:05:26.605355Z",
     "iopub.status.busy": "2021-06-19T08:05:26.605009Z",
     "iopub.status.idle": "2021-06-19T08:05:26.625303Z",
     "shell.execute_reply": "2021-06-19T08:05:26.624350Z",
     "shell.execute_reply.started": "2021-06-19T08:05:26.605320Z"
    },
    "scrolled": true
   },
   "outputs": [
    {
     "data": {
      "text/html": [
       "<div>\n",
       "<style scoped>\n",
       "    .dataframe tbody tr th:only-of-type {\n",
       "        vertical-align: middle;\n",
       "    }\n",
       "\n",
       "    .dataframe tbody tr th {\n",
       "        vertical-align: top;\n",
       "    }\n",
       "\n",
       "    .dataframe thead th {\n",
       "        text-align: right;\n",
       "    }\n",
       "</style>\n",
       "<table border=\"1\" class=\"dataframe\">\n",
       "  <thead>\n",
       "    <tr style=\"text-align: right;\">\n",
       "      <th></th>\n",
       "      <th>filename</th>\n",
       "      <th>category</th>\n",
       "    </tr>\n",
       "  </thead>\n",
       "  <tbody>\n",
       "    <tr>\n",
       "      <th>0</th>\n",
       "      <td>cat.0.jpg</td>\n",
       "      <td>cat</td>\n",
       "    </tr>\n",
       "    <tr>\n",
       "      <th>1</th>\n",
       "      <td>cat.1.jpg</td>\n",
       "      <td>cat</td>\n",
       "    </tr>\n",
       "    <tr>\n",
       "      <th>2</th>\n",
       "      <td>cat.10.jpg</td>\n",
       "      <td>cat</td>\n",
       "    </tr>\n",
       "    <tr>\n",
       "      <th>3</th>\n",
       "      <td>cat.100.jpg</td>\n",
       "      <td>cat</td>\n",
       "    </tr>\n",
       "    <tr>\n",
       "      <th>4</th>\n",
       "      <td>cat.1000.jpg</td>\n",
       "      <td>cat</td>\n",
       "    </tr>\n",
       "  </tbody>\n",
       "</table>\n",
       "</div>"
      ],
      "text/plain": [
       "       filename category\n",
       "0     cat.0.jpg      cat\n",
       "1     cat.1.jpg      cat\n",
       "2    cat.10.jpg      cat\n",
       "3   cat.100.jpg      cat\n",
       "4  cat.1000.jpg      cat"
      ]
     },
     "execution_count": 7,
     "metadata": {},
     "output_type": "execute_result"
    }
   ],
   "source": [
    "df.head()"
   ]
  },
  {
   "cell_type": "code",
   "execution_count": 8,
   "metadata": {
    "execution": {
     "iopub.execute_input": "2021-06-19T08:05:26.627131Z",
     "iopub.status.busy": "2021-06-19T08:05:26.626762Z",
     "iopub.status.idle": "2021-06-19T08:05:26.637949Z",
     "shell.execute_reply": "2021-06-19T08:05:26.637158Z",
     "shell.execute_reply.started": "2021-06-19T08:05:26.627061Z"
    }
   },
   "outputs": [
    {
     "data": {
      "text/html": [
       "<div>\n",
       "<style scoped>\n",
       "    .dataframe tbody tr th:only-of-type {\n",
       "        vertical-align: middle;\n",
       "    }\n",
       "\n",
       "    .dataframe tbody tr th {\n",
       "        vertical-align: top;\n",
       "    }\n",
       "\n",
       "    .dataframe thead th {\n",
       "        text-align: right;\n",
       "    }\n",
       "</style>\n",
       "<table border=\"1\" class=\"dataframe\">\n",
       "  <thead>\n",
       "    <tr style=\"text-align: right;\">\n",
       "      <th></th>\n",
       "      <th>filename</th>\n",
       "      <th>category</th>\n",
       "    </tr>\n",
       "  </thead>\n",
       "  <tbody>\n",
       "    <tr>\n",
       "      <th>24995</th>\n",
       "      <td>dog.9995.jpg</td>\n",
       "      <td>dog</td>\n",
       "    </tr>\n",
       "    <tr>\n",
       "      <th>24996</th>\n",
       "      <td>dog.9996.jpg</td>\n",
       "      <td>dog</td>\n",
       "    </tr>\n",
       "    <tr>\n",
       "      <th>24997</th>\n",
       "      <td>dog.9997.jpg</td>\n",
       "      <td>dog</td>\n",
       "    </tr>\n",
       "    <tr>\n",
       "      <th>24998</th>\n",
       "      <td>dog.9998.jpg</td>\n",
       "      <td>dog</td>\n",
       "    </tr>\n",
       "    <tr>\n",
       "      <th>24999</th>\n",
       "      <td>dog.9999.jpg</td>\n",
       "      <td>dog</td>\n",
       "    </tr>\n",
       "  </tbody>\n",
       "</table>\n",
       "</div>"
      ],
      "text/plain": [
       "           filename category\n",
       "24995  dog.9995.jpg      dog\n",
       "24996  dog.9996.jpg      dog\n",
       "24997  dog.9997.jpg      dog\n",
       "24998  dog.9998.jpg      dog\n",
       "24999  dog.9999.jpg      dog"
      ]
     },
     "execution_count": 8,
     "metadata": {},
     "output_type": "execute_result"
    }
   ],
   "source": [
    "df.tail()"
   ]
  },
  {
   "cell_type": "code",
   "execution_count": 9,
   "metadata": {
    "execution": {
     "iopub.execute_input": "2021-06-19T08:05:26.640903Z",
     "iopub.status.busy": "2021-06-19T08:05:26.640639Z",
     "iopub.status.idle": "2021-06-19T08:05:26.656197Z",
     "shell.execute_reply": "2021-06-19T08:05:26.655450Z",
     "shell.execute_reply.started": "2021-06-19T08:05:26.640879Z"
    }
   },
   "outputs": [
    {
     "data": {
      "text/plain": [
       "cat    12500\n",
       "dog    12500\n",
       "Name: category, dtype: int64"
      ]
     },
     "execution_count": 9,
     "metadata": {},
     "output_type": "execute_result"
    }
   ],
   "source": [
    "df['category'].value_counts()"
   ]
  },
  {
   "cell_type": "markdown",
   "metadata": {},
   "source": [
    "**VISUALIZING TRAINING DATASET** 📊"
   ]
  },
  {
   "cell_type": "code",
   "execution_count": 10,
   "metadata": {
    "execution": {
     "iopub.execute_input": "2021-06-19T08:05:26.659110Z",
     "iopub.status.busy": "2021-06-19T08:05:26.658866Z",
     "iopub.status.idle": "2021-06-19T08:05:26.833293Z",
     "shell.execute_reply": "2021-06-19T08:05:26.832524Z",
     "shell.execute_reply.started": "2021-06-19T08:05:26.659087Z"
    }
   },
   "outputs": [
    {
     "data": {
      "text/plain": [
       "<AxesSubplot:>"
      ]
     },
     "execution_count": 10,
     "metadata": {},
     "output_type": "execute_result"
    },
    {
     "data": {
      "image/png": "[encoded data removed]",
      "text/plain": [
       "<Figure size 432x288 with 1 Axes>"
      ]
     },
     "metadata": {
      "needs_background": "light"
     },
     "output_type": "display_data"
    }
   ],
   "source": [
    "df['category'].value_counts().plot(kind = 'bar')"
   ]
  },
  {
   "cell_type": "markdown",
   "metadata": {},
   "source": [
    "This dataset contains 25,000 images of dogs and cats (12,500 from each class)."
   ]
  },
  {
   "cell_type": "markdown",
   "metadata": {},
   "source": [
    "**See sample image** 🐕"
   ]
  },
  {
   "cell_type": "code",
   "execution_count": 11,
   "metadata": {
    "execution": {
     "iopub.execute_input": "2021-06-19T08:05:26.836287Z",
     "iopub.status.busy": "2021-06-19T08:05:26.835955Z",
     "iopub.status.idle": "2021-06-19T08:05:26.978299Z",
     "shell.execute_reply": "2021-06-19T08:05:26.977478Z",
     "shell.execute_reply.started": "2021-06-19T08:05:26.836254Z"
    }
   },
   "outputs": [
    {
     "data": {
      "text/plain": [
       "<matplotlib.image.AxesImage at 0x28b23547dc0>"
      ]
     },
     "execution_count": 11,
     "metadata": {},
     "output_type": "execute_result"
    },
    {
     "data": {
      "image/png": "[encoded data removed]",
      "text/plain": [
       "<Figure size 432x288 with 1 Axes>"
      ]
     },
     "metadata": {
      "needs_background": "light"
     },
     "output_type": "display_data"
    }
   ],
   "source": [
    "# sample image\n",
    "\n",
    "sample = random.choice(filenames)\n",
    "\n",
    "image = image.load_img('./train/' + sample)\n",
    "\n",
    "plt.imshow(image)"
   ]
  },
  {
   "cell_type": "markdown",
   "metadata": {},
   "source": [
    "# **3. SPLITTING DATASET INTO TRAINING AND VALIDATION SET** "
   ]
  },
  {
   "cell_type": "markdown",
   "metadata": {},
   "source": [
    "We are done with the first step of creating a dataset. Now we have to split this dataset into training and validation dataset."
   ]
  },
  {
   "cell_type": "code",
   "execution_count": 12,
   "metadata": {
    "execution": {
     "iopub.execute_input": "2021-06-19T08:05:26.980194Z",
     "iopub.status.busy": "2021-06-19T08:05:26.979880Z",
     "iopub.status.idle": "2021-06-19T08:05:26.990275Z",
     "shell.execute_reply": "2021-06-19T08:05:26.989550Z",
     "shell.execute_reply.started": "2021-06-19T08:05:26.980156Z"
    }
   },
   "outputs": [],
   "source": [
    "train_df, validate_df = train_test_split(df, test_size = 0.20, random_state = 42)\n",
    "\n",
    "train_df = train_df.reset_index(drop=True)\n",
    "\n",
    "validate_df = validate_df.reset_index(drop=True)"
   ]
  },
  {
   "cell_type": "code",
   "execution_count": 13,
   "metadata": {
    "execution": {
     "iopub.execute_input": "2021-06-19T08:05:26.992057Z",
     "iopub.status.busy": "2021-06-19T08:05:26.991650Z",
     "iopub.status.idle": "2021-06-19T08:05:27.002200Z",
     "shell.execute_reply": "2021-06-19T08:05:27.001373Z",
     "shell.execute_reply.started": "2021-06-19T08:05:26.992021Z"
    }
   },
   "outputs": [
    {
     "data": {
      "text/html": [
       "<div>\n",
       "<style scoped>\n",
       "    .dataframe tbody tr th:only-of-type {\n",
       "        vertical-align: middle;\n",
       "    }\n",
       "\n",
       "    .dataframe tbody tr th {\n",
       "        vertical-align: top;\n",
       "    }\n",
       "\n",
       "    .dataframe thead th {\n",
       "        text-align: right;\n",
       "    }\n",
       "</style>\n",
       "<table border=\"1\" class=\"dataframe\">\n",
       "  <thead>\n",
       "    <tr style=\"text-align: right;\">\n",
       "      <th></th>\n",
       "      <th>filename</th>\n",
       "      <th>category</th>\n",
       "    </tr>\n",
       "  </thead>\n",
       "  <tbody>\n",
       "    <tr>\n",
       "      <th>0</th>\n",
       "      <td>dog.8479.jpg</td>\n",
       "      <td>dog</td>\n",
       "    </tr>\n",
       "    <tr>\n",
       "      <th>1</th>\n",
       "      <td>dog.876.jpg</td>\n",
       "      <td>dog</td>\n",
       "    </tr>\n",
       "    <tr>\n",
       "      <th>2</th>\n",
       "      <td>cat.10915.jpg</td>\n",
       "      <td>cat</td>\n",
       "    </tr>\n",
       "    <tr>\n",
       "      <th>3</th>\n",
       "      <td>dog.10127.jpg</td>\n",
       "      <td>dog</td>\n",
       "    </tr>\n",
       "    <tr>\n",
       "      <th>4</th>\n",
       "      <td>cat.11377.jpg</td>\n",
       "      <td>cat</td>\n",
       "    </tr>\n",
       "  </tbody>\n",
       "</table>\n",
       "</div>"
      ],
      "text/plain": [
       "        filename category\n",
       "0   dog.8479.jpg      dog\n",
       "1    dog.876.jpg      dog\n",
       "2  cat.10915.jpg      cat\n",
       "3  dog.10127.jpg      dog\n",
       "4  cat.11377.jpg      cat"
      ]
     },
     "execution_count": 13,
     "metadata": {},
     "output_type": "execute_result"
    }
   ],
   "source": [
    "train_df.head()"
   ]
  },
  {
   "cell_type": "code",
   "execution_count": 14,
   "metadata": {
    "execution": {
     "iopub.execute_input": "2021-06-19T08:05:27.004133Z",
     "iopub.status.busy": "2021-06-19T08:05:27.003720Z",
     "iopub.status.idle": "2021-06-19T08:05:27.015578Z",
     "shell.execute_reply": "2021-06-19T08:05:27.014416Z",
     "shell.execute_reply.started": "2021-06-19T08:05:27.004098Z"
    }
   },
   "outputs": [
    {
     "data": {
      "text/html": [
       "<div>\n",
       "<style scoped>\n",
       "    .dataframe tbody tr th:only-of-type {\n",
       "        vertical-align: middle;\n",
       "    }\n",
       "\n",
       "    .dataframe tbody tr th {\n",
       "        vertical-align: top;\n",
       "    }\n",
       "\n",
       "    .dataframe thead th {\n",
       "        text-align: right;\n",
       "    }\n",
       "</style>\n",
       "<table border=\"1\" class=\"dataframe\">\n",
       "  <thead>\n",
       "    <tr style=\"text-align: right;\">\n",
       "      <th></th>\n",
       "      <th>filename</th>\n",
       "      <th>category</th>\n",
       "    </tr>\n",
       "  </thead>\n",
       "  <tbody>\n",
       "    <tr>\n",
       "      <th>0</th>\n",
       "      <td>cat.493.jpg</td>\n",
       "      <td>cat</td>\n",
       "    </tr>\n",
       "    <tr>\n",
       "      <th>1</th>\n",
       "      <td>dog.9112.jpg</td>\n",
       "      <td>dog</td>\n",
       "    </tr>\n",
       "    <tr>\n",
       "      <th>2</th>\n",
       "      <td>cat.745.jpg</td>\n",
       "      <td>cat</td>\n",
       "    </tr>\n",
       "    <tr>\n",
       "      <th>3</th>\n",
       "      <td>dog.11022.jpg</td>\n",
       "      <td>dog</td>\n",
       "    </tr>\n",
       "    <tr>\n",
       "      <th>4</th>\n",
       "      <td>dog.11363.jpg</td>\n",
       "      <td>dog</td>\n",
       "    </tr>\n",
       "  </tbody>\n",
       "</table>\n",
       "</div>"
      ],
      "text/plain": [
       "        filename category\n",
       "0    cat.493.jpg      cat\n",
       "1   dog.9112.jpg      dog\n",
       "2    cat.745.jpg      cat\n",
       "3  dog.11022.jpg      dog\n",
       "4  dog.11363.jpg      dog"
      ]
     },
     "execution_count": 14,
     "metadata": {},
     "output_type": "execute_result"
    }
   ],
   "source": [
    "validate_df.head()"
   ]
  },
  {
   "cell_type": "code",
   "execution_count": 15,
   "metadata": {
    "execution": {
     "iopub.execute_input": "2021-06-19T08:05:27.017745Z",
     "iopub.status.busy": "2021-06-19T08:05:27.017155Z",
     "iopub.status.idle": "2021-06-19T08:05:27.125268Z",
     "shell.execute_reply": "2021-06-19T08:05:27.124567Z",
     "shell.execute_reply.started": "2021-06-19T08:05:27.017709Z"
    }
   },
   "outputs": [
    {
     "data": {
      "text/plain": [
       "<AxesSubplot:>"
      ]
     },
     "execution_count": 15,
     "metadata": {},
     "output_type": "execute_result"
    },
    {
     "data": {
      "image/png": "[encoded data removed]",
      "text/plain": [
       "<Figure size 432x288 with 1 Axes>"
      ]
     },
     "metadata": {
      "needs_background": "light"
     },
     "output_type": "display_data"
    }
   ],
   "source": [
    "train_df['category'].value_counts().plot(kind = 'bar')"
   ]
  },
  {
   "cell_type": "code",
   "execution_count": 16,
   "metadata": {
    "execution": {
     "iopub.execute_input": "2021-06-19T08:05:27.126783Z",
     "iopub.status.busy": "2021-06-19T08:05:27.126437Z",
     "iopub.status.idle": "2021-06-19T08:05:27.243365Z",
     "shell.execute_reply": "2021-06-19T08:05:27.242429Z",
     "shell.execute_reply.started": "2021-06-19T08:05:27.126749Z"
    }
   },
   "outputs": [
    {
     "data": {
      "text/plain": [
       "<AxesSubplot:>"
      ]
     },
     "execution_count": 16,
     "metadata": {},
     "output_type": "execute_result"
    },
    {
     "data": {
      "image/png": "[encoded data removed]",
      "text/plain": [
       "<Figure size 432x288 with 1 Axes>"
      ]
     },
     "metadata": {
      "needs_background": "light"
     },
     "output_type": "display_data"
    }
   ],
   "source": [
    "validate_df['category'].value_counts().plot(kind = 'bar')"
   ]
  },
  {
   "cell_type": "code",
   "execution_count": 17,
   "metadata": {
    "execution": {
     "iopub.execute_input": "2021-06-19T08:05:27.245050Z",
     "iopub.status.busy": "2021-06-19T08:05:27.244707Z",
     "iopub.status.idle": "2021-06-19T08:05:27.250514Z",
     "shell.execute_reply": "2021-06-19T08:05:27.249534Z",
     "shell.execute_reply.started": "2021-06-19T08:05:27.245014Z"
    }
   },
   "outputs": [
    {
     "name": "stdout",
     "output_type": "stream",
     "text": [
      "Total number of example in training dataset : 20000\n",
      "Total number of example in validation dataset : 5000\n"
     ]
    }
   ],
   "source": [
    "total_train = train_df.shape[0]\n",
    "\n",
    "total_validate = validate_df.shape[0]\n",
    "\n",
    "print(\"Total number of example in training dataset : {0}\".format(total_train))\n",
    "\n",
    "print(\"Total number of example in validation dataset : {0}\".format(total_validate))"
   ]
  },
  {
   "cell_type": "markdown",
   "metadata": {},
   "source": [
    "# **4. BUILD A PREDICTIVE MODEL** 🏗"
   ]
  },
  {
   "cell_type": "code",
   "execution_count": 18,
   "metadata": {
    "execution": {
     "iopub.execute_input": "2021-06-19T08:05:27.252408Z",
     "iopub.status.busy": "2021-06-19T08:05:27.252031Z",
     "iopub.status.idle": "2021-06-19T08:05:27.259565Z",
     "shell.execute_reply": "2021-06-19T08:05:27.258606Z",
     "shell.execute_reply.started": "2021-06-19T08:05:27.252372Z"
    }
   },
   "outputs": [],
   "source": [
    "from tensorflow.keras.models import Sequential\n",
    "\n",
    "from tensorflow.keras.layers import Conv2D, MaxPooling2D, Dense, Dropout, Flatten\n",
    "\n",
    "from tensorflow.keras import optimizers"
   ]
  },
  {
   "cell_type": "markdown",
   "metadata": {},
   "source": [
    "First Model- Our first model will be the convnet which is stack of alternated conv2D(with relu activation) and MaxPooling2D layers."
   ]
  },
  {
   "cell_type": "markdown",
   "metadata": {},
   "source": [
    "- Conv Layer -> The matrix representation of the input image is multiplied element-wise with the kernel(filter) to produce a                  feature map, also known as a convolved feature or an activation map.The aim of this step is to reduce the size                  of the image and make processing faster and easier.\n",
    "               \n",
    "               Output of this layer must be equal to:- shape = math.floor(((n+2p-f)/s)+1, ((n+2p-f)/s)+1)\n",
    "\n",
    "\n",
    "- Pooling Layer -> Pooling enables the CNN to detect features in various images irrespective of the difference in lighting in                      the pictures and different angles of the images.\n",
    "                   \n",
    "               Output of maxpooling layer :- shape = math.floor(((n-f)/s)+1, ((n-f)/s)+1)\n",
    "             \n",
    "             \n",
    "- Flattening -> Flattening involves transforming the entire pooled feature map matrix into a single column which is then fed to                 the neural network for processing."
   ]
  },
  {
   "cell_type": "code",
   "execution_count": 19,
   "metadata": {
    "execution": {
     "iopub.execute_input": "2021-06-19T08:05:27.261601Z",
     "iopub.status.busy": "2021-06-19T08:05:27.261259Z",
     "iopub.status.idle": "2021-06-19T08:05:27.276356Z",
     "shell.execute_reply": "2021-06-19T08:05:27.275607Z",
     "shell.execute_reply.started": "2021-06-19T08:05:27.261568Z"
    }
   },
   "outputs": [],
   "source": [
    "class Model:\n",
    "    \n",
    "    def __init__(self, IMG_WIDTH, IMG_HEIGHT, IMG_CHANNELS):\n",
    "        \n",
    "        self.IMG_WIDTH = IMG_WIDTH\n",
    "        \n",
    "        self.IMG_HEIGHT = IMG_HEIGHT\n",
    "               \n",
    "        self.IMG_CHANNELS = IMG_CHANNELS\n",
    "    \n",
    "    def create_model_one(self):\n",
    "        \n",
    "        model_one = Sequential()\n",
    "        \n",
    "        # Adding Layers to create a convolutional mask/kernel that is wind with layers input which helps produce a tensor of outputs\n",
    "        \n",
    "        # Layer 1\n",
    "        model_one.add(Conv2D(32, (3,3), activation = 'relu', input_shape = (150, 150, 3)))\n",
    "        \n",
    "        model_one.add(MaxPooling2D((2,2)))\n",
    "        \n",
    "        # Layer 2\n",
    "        model_one.add(Conv2D(64, (3,3), activation = 'relu'))\n",
    "        \n",
    "        model_one.add(MaxPooling2D((2,2)))\n",
    "        \n",
    "        # Layer 3\n",
    "        model_one.add(Conv2D(128, (3,3), activation = 'relu'))\n",
    "        \n",
    "        model_one.add(MaxPooling2D((2,2)))\n",
    "               \n",
    "        # Layer 4\n",
    "        model_one.add(Conv2D(128, (3,3), activation = 'relu'))\n",
    "        \n",
    "        model_one.add(MaxPooling2D((2,2)))\n",
    "           \n",
    "        model_one.add(Flatten())\n",
    "                      \n",
    "        model_one.add(Dense(512, activation = 'relu'))\n",
    "        \n",
    "        model_one.add(Dense(1, activation = 'sigmoid'))\n",
    "                      \n",
    "        return model_one\n",
    "    \n",
    "    def create_model_two(self):\n",
    "        \n",
    "        model_two = Sequential()\n",
    "        \n",
    "        # Adding Layers to create a convolutional mask/kernel that is wind with layers input which helps produce a tensor of outputs\n",
    "        \n",
    "        # Layer 1\n",
    "        model_two.add(Conv2D(32, (3,3), activation = 'relu', input_shape = (150, 150, 3)))\n",
    "        \n",
    "        model_two.add(MaxPooling2D((2,2)))\n",
    "        \n",
    "        # Layer 2\n",
    "        model_two.add(Conv2D(64, (3,3), activation = 'relu'))\n",
    "        \n",
    "        model_two.add(MaxPooling2D((2,2)))\n",
    "        \n",
    "        # Layer 3\n",
    "        model_two.add(Conv2D(128, (3,3), activation = 'relu'))\n",
    "        \n",
    "        model_two.add(MaxPooling2D((2,2)))\n",
    "               \n",
    "        # Layer 4\n",
    "        model_two.add(Conv2D(128, (3,3), activation = 'relu'))\n",
    "        \n",
    "        model_two.add(MaxPooling2D((2,2)))\n",
    "           \n",
    "        model_two.add(Flatten())\n",
    "        \n",
    "        # DropoutLayer for preventing model from overfitting\n",
    "        model_two.add(Dropout(0.5))\n",
    "                      \n",
    "        model_two.add(Dense(512, activation = 'relu'))\n",
    "        \n",
    "        model_two.add(Dense(1, activation = 'sigmoid'))\n",
    "                      \n",
    "        return model_two\n",
    "    \n",
    "        \n",
    "        "
   ]
  },
  {
   "cell_type": "code",
   "execution_count": 20,
   "metadata": {
    "execution": {
     "iopub.execute_input": "2021-06-19T08:05:27.278032Z",
     "iopub.status.busy": "2021-06-19T08:05:27.277663Z",
     "iopub.status.idle": "2021-06-19T08:05:27.287399Z",
     "shell.execute_reply": "2021-06-19T08:05:27.286614Z",
     "shell.execute_reply.started": "2021-06-19T08:05:27.277997Z"
    }
   },
   "outputs": [],
   "source": [
    "IMG_WIDTH = 150\n",
    "\n",
    "IMG_HEIGHT = 150\n",
    "\n",
    "IMG_CHANNELS = 3\n",
    "\n",
    "model = Model(IMG_WIDTH, IMG_HEIGHT, IMG_CHANNELS)"
   ]
  },
  {
   "cell_type": "markdown",
   "metadata": {},
   "source": [
    "**Model 1**"
   ]
  },
  {
   "cell_type": "code",
   "execution_count": 21,
   "metadata": {
    "execution": {
     "iopub.execute_input": "2021-06-19T08:05:27.289075Z",
     "iopub.status.busy": "2021-06-19T08:05:27.288625Z",
     "iopub.status.idle": "2021-06-19T08:05:29.314537Z",
     "shell.execute_reply": "2021-06-19T08:05:29.313754Z",
     "shell.execute_reply.started": "2021-06-19T08:05:27.289041Z"
    }
   },
   "outputs": [
    {
     "name": "stdout",
     "output_type": "stream",
     "text": [
      "Model: \"sequential\"\n",
      "_________________________________________________________________\n",
      " Layer (type)                Output Shape              Param #   \n",
      "=================================================================\n",
      " conv2d (Conv2D)             (None, 148, 148, 32)      896       \n",
      "                                                                 \n",
      " max_pooling2d (MaxPooling2D  (None, 74, 74, 32)       0         \n",
      " )                                                               \n",
      "                                                                 \n",
      " conv2d_1 (Conv2D)           (None, 72, 72, 64)        18496     \n",
      "                                                                 \n",
      " max_pooling2d_1 (MaxPooling  (None, 36, 36, 64)       0         \n",
      " 2D)                                                             \n",
      "                                                                 \n",
      " conv2d_2 (Conv2D)           (None, 34, 34, 128)       73856     \n",
      "                                                                 \n",
      " max_pooling2d_2 (MaxPooling  (None, 17, 17, 128)      0         \n",
      " 2D)                                                             \n",
      "                                                                 \n",
      " conv2d_3 (Conv2D)           (None, 15, 15, 128)       147584    \n",
      "                                                                 \n",
      " max_pooling2d_3 (MaxPooling  (None, 7, 7, 128)        0         \n",
      " 2D)                                                             \n",
      "                                                                 \n",
      " flatten (Flatten)           (None, 6272)              0         \n",
      "                                                                 \n",
      " dense (Dense)               (None, 512)               3211776   \n",
      "                                                                 \n",
      " dense_1 (Dense)             (None, 1)                 513       \n",
      "                                                                 \n",
      "=================================================================\n",
      "Total params: 3,453,121\n",
      "Trainable params: 3,453,121\n",
      "Non-trainable params: 0\n",
      "_________________________________________________________________\n"
     ]
    }
   ],
   "source": [
    "model_1 = model.create_model_one()\n",
    "\n",
    "model_1.summary()"
   ]
  },
  {
   "cell_type": "markdown",
   "metadata": {},
   "source": [
    "Compiling Model 1\n",
    "\n",
    "Since it is a two class classification problem, therefore using binary_crossentropy as loss and using RMSprop as optimizer because we ended the network with a single sigmoidal unit."
   ]
  },
  {
   "cell_type": "code",
   "execution_count": 22,
   "metadata": {
    "execution": {
     "iopub.execute_input": "2021-06-19T08:05:29.316148Z",
     "iopub.status.busy": "2021-06-19T08:05:29.315832Z",
     "iopub.status.idle": "2021-06-19T08:05:29.330271Z",
     "shell.execute_reply": "2021-06-19T08:05:29.329446Z",
     "shell.execute_reply.started": "2021-06-19T08:05:29.316111Z"
    }
   },
   "outputs": [],
   "source": [
    "from tensorflow.keras import optimizers\n",
    "\n",
    "model_1.compile(loss = 'binary_crossentropy', optimizer = optimizers.RMSprop(learning_rate = 1e-4), metrics =['acc'])"
   ]
  },
  {
   "cell_type": "markdown",
   "metadata": {},
   "source": [
    "📌 Currently data is in in jpeg format, so in order to feed those images to Neural Network we need to do the following steps\n",
    "\n",
    "Step 1 - Read the image file\n",
    "\n",
    "Step 2 - Decode those JPEG content to RGB grids of pixels\n",
    "\n",
    "Step 3 - Convert these into floating-point tensors\n",
    "\n",
    "Step 4 - Rescale the pixel values from range [0-255] to [0-1] as NN prefers to deal with smaller input values."
   ]
  },
  {
   "cell_type": "code",
   "execution_count": 23,
   "metadata": {
    "execution": {
     "iopub.execute_input": "2021-06-19T08:05:29.332129Z",
     "iopub.status.busy": "2021-06-19T08:05:29.331671Z",
     "iopub.status.idle": "2021-06-19T08:05:29.337818Z",
     "shell.execute_reply": "2021-06-19T08:05:29.336646Z",
     "shell.execute_reply.started": "2021-06-19T08:05:29.332089Z"
    }
   },
   "outputs": [],
   "source": [
    "from keras.preprocessing.image import ImageDataGenerator"
   ]
  },
  {
   "cell_type": "markdown",
   "metadata": {},
   "source": [
    "<div class=\"alert alert-block alert-info\">\n",
    "📌Generators in Python -: \n",
    "A Python generator is an object that acts as an iterator. Generators are built using the yield operator.\n",
    "</div>"
   ]
  },
  {
   "cell_type": "code",
   "execution_count": 24,
   "metadata": {
    "execution": {
     "iopub.execute_input": "2021-06-19T08:05:29.339856Z",
     "iopub.status.busy": "2021-06-19T08:05:29.339283Z",
     "iopub.status.idle": "2021-06-19T08:05:29.346279Z",
     "shell.execute_reply": "2021-06-19T08:05:29.345483Z",
     "shell.execute_reply.started": "2021-06-19T08:05:29.339796Z"
    }
   },
   "outputs": [],
   "source": [
    "train_imgdatagen = ImageDataGenerator(rescale = 1./255)\n",
    "\n",
    "valid_imgdatagen = ImageDataGenerator(rescale = 1./255)"
   ]
  },
  {
   "cell_type": "code",
   "execution_count": 25,
   "metadata": {
    "execution": {
     "iopub.execute_input": "2021-06-19T08:05:29.347981Z",
     "iopub.status.busy": "2021-06-19T08:05:29.347553Z",
     "iopub.status.idle": "2021-06-19T08:05:29.591431Z",
     "shell.execute_reply": "2021-06-19T08:05:29.590666Z",
     "shell.execute_reply.started": "2021-06-19T08:05:29.347945Z"
    }
   },
   "outputs": [
    {
     "name": "stdout",
     "output_type": "stream",
     "text": [
      "Found 20000 validated image filenames belonging to 2 classes.\n",
      "Found 5000 validated image filenames belonging to 2 classes.\n"
     ]
    }
   ],
   "source": [
    "train_generator_m1 = train_imgdatagen.flow_from_dataframe(\n",
    "                    train_df,\n",
    "                    \n",
    "                    \"./train\", \n",
    "                    \n",
    "                    x_col='filename',\n",
    "    \n",
    "                    y_col='category',\n",
    "                    \n",
    "                    target_size = (150, 150), # resize image to 150x150\n",
    "                    \n",
    "                    batch_size = 20,\n",
    "    \n",
    "                    class_mode = 'binary'\n",
    "                  )\n",
    "\n",
    "\n",
    "validation_generator_m1 = train_imgdatagen.flow_from_dataframe(\n",
    "                    validate_df,\n",
    "    \n",
    "                    \"./train\", \n",
    "                    \n",
    "                    x_col='filename',\n",
    "    \n",
    "                    y_col='category',\n",
    "                    \n",
    "                    target_size = (150, 150), # resize image to 150x150\n",
    "                    \n",
    "                    batch_size = 20,\n",
    "    \n",
    "                    class_mode = 'binary'\n",
    "                  )\n"
   ]
  },
  {
   "cell_type": "markdown",
   "metadata": {},
   "source": [
    "That's correct training data contains 20000 images with 2 classes and also validation data contains 5000 images with 2 classes.\n",
    "\n",
    "Now lets look at the output of these generators :"
   ]
  },
  {
   "cell_type": "code",
   "execution_count": 26,
   "metadata": {
    "execution": {
     "iopub.execute_input": "2021-06-19T08:05:29.596079Z",
     "iopub.status.busy": "2021-06-19T08:05:29.595831Z",
     "iopub.status.idle": "2021-06-19T08:05:29.650477Z",
     "shell.execute_reply": "2021-06-19T08:05:29.649519Z",
     "shell.execute_reply.started": "2021-06-19T08:05:29.596055Z"
    }
   },
   "outputs": [
    {
     "name": "stdout",
     "output_type": "stream",
     "text": [
      "Data batch shape: (20, 150, 150, 3)\n",
      "Labels batch shape: (20,)\n"
     ]
    }
   ],
   "source": [
    "for data_batch, labels_batch in train_generator_m1:\n",
    "    \n",
    "    print('Data batch shape: {0}'. format(data_batch.shape))\n",
    "    \n",
    "    print('Labels batch shape: {0}'. format(labels_batch.shape))\n",
    "    \n",
    "    break"
   ]
  },
  {
   "cell_type": "markdown",
   "metadata": {},
   "source": [
    "There are 20 samples in each batch."
   ]
  },
  {
   "cell_type": "markdown",
   "metadata": {},
   "source": [
    "**Model 2 (Using Data augementation)**"
   ]
  },
  {
   "cell_type": "markdown",
   "metadata": {},
   "source": [
    "📌 In this approach we try to generate more training samples from existing training data, by augementing the samples through a number of random transformation that yields believable looking images. The goal of this approach is that our model should not see the exact same image at training time which as a result helps our model to more aspects of data and generalize better.\n",
    "\n",
    "But how can we do that? 🧐\n",
    "\n",
    "This can be done by configuring some random changes on images using **ImageDataGenerator**."
   ]
  },
  {
   "cell_type": "markdown",
   "metadata": {},
   "source": [
    "If we use the below generator then we cant not completely get rid of overfitting"
   ]
  },
  {
   "cell_type": "code",
   "execution_count": 27,
   "metadata": {
    "execution": {
     "iopub.execute_input": "2021-06-19T08:05:29.653481Z",
     "iopub.status.busy": "2021-06-19T08:05:29.653167Z",
     "iopub.status.idle": "2021-06-19T08:05:29.658980Z",
     "shell.execute_reply": "2021-06-19T08:05:29.658002Z",
     "shell.execute_reply.started": "2021-06-19T08:05:29.653447Z"
    }
   },
   "outputs": [],
   "source": [
    "train_imgdatagen_m2 = ImageDataGenerator(\n",
    "                     rescale = 1./255,\n",
    "    \n",
    "                     rotation_range = 15,\n",
    "    \n",
    "                     width_shift_range = 0.1,\n",
    "    \n",
    "                     height_shift_range = 0.1,\n",
    "    \n",
    "                     shear_range = 0.1,\n",
    "    \n",
    "                     zoom_range = 0.2,\n",
    "    \n",
    "                     horizontal_flip = True\n",
    "                    )\n",
    "\n",
    "valid_imgdatagen_m2 = ImageDataGenerator(\n",
    "                             rescale = 1./255\n",
    "                         )"
   ]
  },
  {
   "cell_type": "code",
   "execution_count": 28,
   "metadata": {
    "execution": {
     "iopub.execute_input": "2021-06-19T08:05:29.661057Z",
     "iopub.status.busy": "2021-06-19T08:05:29.660466Z",
     "iopub.status.idle": "2021-06-19T08:05:29.735144Z",
     "shell.execute_reply": "2021-06-19T08:05:29.734230Z",
     "shell.execute_reply.started": "2021-06-19T08:05:29.661019Z"
    }
   },
   "outputs": [
    {
     "name": "stdout",
     "output_type": "stream",
     "text": [
      "Model: \"sequential_1\"\n",
      "_________________________________________________________________\n",
      " Layer (type)                Output Shape              Param #   \n",
      "=================================================================\n",
      " conv2d_4 (Conv2D)           (None, 148, 148, 32)      896       \n",
      "                                                                 \n",
      " max_pooling2d_4 (MaxPooling  (None, 74, 74, 32)       0         \n",
      " 2D)                                                             \n",
      "                                                                 \n",
      " conv2d_5 (Conv2D)           (None, 72, 72, 64)        18496     \n",
      "                                                                 \n",
      " max_pooling2d_5 (MaxPooling  (None, 36, 36, 64)       0         \n",
      " 2D)                                                             \n",
      "                                                                 \n",
      " conv2d_6 (Conv2D)           (None, 34, 34, 128)       73856     \n",
      "                                                                 \n",
      " max_pooling2d_6 (MaxPooling  (None, 17, 17, 128)      0         \n",
      " 2D)                                                             \n",
      "                                                                 \n",
      " conv2d_7 (Conv2D)           (None, 15, 15, 128)       147584    \n",
      "                                                                 \n",
      " max_pooling2d_7 (MaxPooling  (None, 7, 7, 128)        0         \n",
      " 2D)                                                             \n",
      "                                                                 \n",
      " flatten_1 (Flatten)         (None, 6272)              0         \n",
      "                                                                 \n",
      " dropout (Dropout)           (None, 6272)              0         \n",
      "                                                                 \n",
      " dense_2 (Dense)             (None, 512)               3211776   \n",
      "                                                                 \n",
      " dense_3 (Dense)             (None, 1)                 513       \n",
      "                                                                 \n",
      "=================================================================\n",
      "Total params: 3,453,121\n",
      "Trainable params: 3,453,121\n",
      "Non-trainable params: 0\n",
      "_________________________________________________________________\n"
     ]
    }
   ],
   "source": [
    "model_2 = model.create_model_two()\n",
    "\n",
    "model_2.summary()"
   ]
  },
  {
   "cell_type": "code",
   "execution_count": 29,
   "metadata": {
    "execution": {
     "iopub.execute_input": "2021-06-19T08:05:29.736919Z",
     "iopub.status.busy": "2021-06-19T08:05:29.736452Z",
     "iopub.status.idle": "2021-06-19T08:05:29.749169Z",
     "shell.execute_reply": "2021-06-19T08:05:29.748314Z",
     "shell.execute_reply.started": "2021-06-19T08:05:29.736881Z"
    }
   },
   "outputs": [],
   "source": [
    "model_2.compile(loss = 'binary_crossentropy', optimizer = optimizers.RMSprop(learning_rate = 1e-4), metrics =['acc'])"
   ]
  },
  {
   "cell_type": "code",
   "execution_count": 30,
   "metadata": {
    "execution": {
     "iopub.execute_input": "2021-06-19T08:05:29.750679Z",
     "iopub.status.busy": "2021-06-19T08:05:29.750262Z",
     "iopub.status.idle": "2021-06-19T08:05:29.978968Z",
     "shell.execute_reply": "2021-06-19T08:05:29.978005Z",
     "shell.execute_reply.started": "2021-06-19T08:05:29.750640Z"
    }
   },
   "outputs": [
    {
     "name": "stdout",
     "output_type": "stream",
     "text": [
      "Found 20000 validated image filenames belonging to 2 classes.\n",
      "Found 5000 validated image filenames belonging to 2 classes.\n"
     ]
    }
   ],
   "source": [
    "train_generator_m2 = train_imgdatagen_m2.flow_from_dataframe(\n",
    "                    train_df,\n",
    "                    \n",
    "                    \"./train\", \n",
    "                    \n",
    "                    x_col='filename',\n",
    "    \n",
    "                    y_col='category',\n",
    "                    \n",
    "                    target_size = (150, 150), # resize image to 150x150\n",
    "                    \n",
    "                    batch_size = 32,\n",
    "    \n",
    "                    class_mode = 'binary'\n",
    "                  )\n",
    "\n",
    "\n",
    "validation_generator_m2 = valid_imgdatagen_m2.flow_from_dataframe(\n",
    "                    validate_df,\n",
    "    \n",
    "                    \"./train\", \n",
    "                    \n",
    "                    x_col='filename',\n",
    "    \n",
    "                    y_col='category',\n",
    "                    \n",
    "                    target_size = (150, 150), # resize image to 150x150\n",
    "                    \n",
    "                    batch_size = 32,\n",
    "    \n",
    "                    class_mode = 'binary'\n",
    "                  )\n"
   ]
  },
  {
   "cell_type": "markdown",
   "metadata": {},
   "source": [
    "**MODEL 3**"
   ]
  },
  {
   "cell_type": "markdown",
   "metadata": {},
   "source": [
    "**Can we get more accuracy? 💭**\n",
    "\n",
    "Let's try to build one more predictive model using a pretrained model."
   ]
  },
  {
   "cell_type": "markdown",
   "metadata": {},
   "source": [
    "**But why pretrained model? 🤷‍♂️**\n",
    "\n",
    "Because probability of learned features across different problems is a key advantage of deep learning compared to many olders, shallow-learning approaches and it makes deep learning very effective for small-data problems."
   ]
  },
  {
   "cell_type": "code",
   "execution_count": 31,
   "metadata": {
    "execution": {
     "iopub.execute_input": "2021-06-19T08:05:29.980607Z",
     "iopub.status.busy": "2021-06-19T08:05:29.980269Z",
     "iopub.status.idle": "2021-06-19T08:05:29.984802Z",
     "shell.execute_reply": "2021-06-19T08:05:29.983788Z",
     "shell.execute_reply.started": "2021-06-19T08:05:29.980570Z"
    }
   },
   "outputs": [],
   "source": [
    "from tensorflow.keras.applications import VGG16"
   ]
  },
  {
   "cell_type": "code",
   "execution_count": 32,
   "metadata": {
    "execution": {
     "iopub.execute_input": "2021-06-19T08:05:29.986471Z",
     "iopub.status.busy": "2021-06-19T08:05:29.986086Z",
     "iopub.status.idle": "2021-06-19T08:05:30.760478Z",
     "shell.execute_reply": "2021-06-19T08:05:30.758493Z",
     "shell.execute_reply.started": "2021-06-19T08:05:29.986417Z"
    }
   },
   "outputs": [
    {
     "name": "stdout",
     "output_type": "stream",
     "text": [
      "Model: \"vgg16\"\n",
      "_________________________________________________________________\n",
      " Layer (type)                Output Shape              Param #   \n",
      "=================================================================\n",
      " input_1 (InputLayer)        [(None, 150, 150, 3)]     0         \n",
      "                                                                 \n",
      " block1_conv1 (Conv2D)       (None, 150, 150, 64)      1792      \n",
      "                                                                 \n",
      " block1_conv2 (Conv2D)       (None, 150, 150, 64)      36928     \n",
      "                                                                 \n",
      " block1_pool (MaxPooling2D)  (None, 75, 75, 64)        0         \n",
      "                                                                 \n",
      " block2_conv1 (Conv2D)       (None, 75, 75, 128)       73856     \n",
      "                                                                 \n",
      " block2_conv2 (Conv2D)       (None, 75, 75, 128)       147584    \n",
      "                                                                 \n",
      " block2_pool (MaxPooling2D)  (None, 37, 37, 128)       0         \n",
      "                                                                 \n",
      " block3_conv1 (Conv2D)       (None, 37, 37, 256)       295168    \n",
      "                                                                 \n",
      " block3_conv2 (Conv2D)       (None, 37, 37, 256)       590080    \n",
      "                                                                 \n",
      " block3_conv3 (Conv2D)       (None, 37, 37, 256)       590080    \n",
      "                                                                 \n",
      " block3_pool (MaxPooling2D)  (None, 18, 18, 256)       0         \n",
      "                                                                 \n",
      " block4_conv1 (Conv2D)       (None, 18, 18, 512)       1180160   \n",
      "                                                                 \n",
      " block4_conv2 (Conv2D)       (None, 18, 18, 512)       2359808   \n",
      "                                                                 \n",
      " block4_conv3 (Conv2D)       (None, 18, 18, 512)       2359808   \n",
      "                                                                 \n",
      " block4_pool (MaxPooling2D)  (None, 9, 9, 512)         0         \n",
      "                                                                 \n",
      " block5_conv1 (Conv2D)       (None, 9, 9, 512)         2359808   \n",
      "                                                                 \n",
      " block5_conv2 (Conv2D)       (None, 9, 9, 512)         2359808   \n",
      "                                                                 \n",
      " block5_conv3 (Conv2D)       (None, 9, 9, 512)         2359808   \n",
      "                                                                 \n",
      " block5_pool (MaxPooling2D)  (None, 4, 4, 512)         0         \n",
      "                                                                 \n",
      "=================================================================\n",
      "Total params: 14,714,688\n",
      "Trainable params: 14,714,688\n",
      "Non-trainable params: 0\n",
      "_________________________________________________________________\n"
     ]
    }
   ],
   "source": [
    "conv_base = VGG16(weights = 'imagenet', include_top = False, input_shape = (150,150,3))\n",
    "\n",
    "conv_base.summary()"
   ]
  },
  {
   "cell_type": "markdown",
   "metadata": {},
   "source": [
    "`The final feature map has a shape (4, 4, 512). That's the feature on top of which we will stick densely connected classifier."
   ]
  },
  {
   "cell_type": "markdown",
   "metadata": {},
   "source": [
    "Adding a densely connected classifier on top of convolution base"
   ]
  },
  {
   "cell_type": "code",
   "execution_count": 33,
   "metadata": {
    "execution": {
     "iopub.execute_input": "2021-06-19T08:05:30.763646Z",
     "iopub.status.busy": "2021-06-19T08:05:30.763390Z",
     "iopub.status.idle": "2021-06-19T08:05:30.832963Z",
     "shell.execute_reply": "2021-06-19T08:05:30.832208Z",
     "shell.execute_reply.started": "2021-06-19T08:05:30.763620Z"
    }
   },
   "outputs": [],
   "source": [
    "model_3 = Sequential()\n",
    "\n",
    "model_3.add(conv_base)\n",
    "\n",
    "model_3.add(Flatten())\n",
    "\n",
    "model_3.add(Dense(256, activation = 'relu'))\n",
    "\n",
    "model_3.add(Dense(1, activation = 'sigmoid'))"
   ]
  },
  {
   "cell_type": "code",
   "execution_count": 34,
   "metadata": {
    "execution": {
     "iopub.execute_input": "2021-06-19T08:05:30.835811Z",
     "iopub.status.busy": "2021-06-19T08:05:30.835546Z",
     "iopub.status.idle": "2021-06-19T08:05:30.844460Z",
     "shell.execute_reply": "2021-06-19T08:05:30.843657Z",
     "shell.execute_reply.started": "2021-06-19T08:05:30.835786Z"
    }
   },
   "outputs": [
    {
     "name": "stdout",
     "output_type": "stream",
     "text": [
      "Model: \"sequential_2\"\n",
      "_________________________________________________________________\n",
      " Layer (type)                Output Shape              Param #   \n",
      "=================================================================\n",
      " vgg16 (Functional)          (None, 4, 4, 512)         14714688  \n",
      "                                                                 \n",
      " flatten_2 (Flatten)         (None, 8192)              0         \n",
      "                                                                 \n",
      " dense_4 (Dense)             (None, 256)               2097408   \n",
      "                                                                 \n",
      " dense_5 (Dense)             (None, 1)                 257       \n",
      "                                                                 \n",
      "=================================================================\n",
      "Total params: 16,812,353\n",
      "Trainable params: 16,812,353\n",
      "Non-trainable params: 0\n",
      "_________________________________________________________________\n"
     ]
    }
   ],
   "source": [
    "model_3.summary()"
   ]
  },
  {
   "cell_type": "markdown",
   "metadata": {},
   "source": [
    "Freezing conv_base"
   ]
  },
  {
   "cell_type": "code",
   "execution_count": 35,
   "metadata": {
    "execution": {
     "iopub.execute_input": "2021-06-19T08:05:30.846283Z",
     "iopub.status.busy": "2021-06-19T08:05:30.845940Z",
     "iopub.status.idle": "2021-06-19T08:05:30.855081Z",
     "shell.execute_reply": "2021-06-19T08:05:30.854271Z",
     "shell.execute_reply.started": "2021-06-19T08:05:30.846249Z"
    }
   },
   "outputs": [
    {
     "name": "stdout",
     "output_type": "stream",
     "text": [
      "The number of trainable weights before freezing the conv base:  30\n"
     ]
    }
   ],
   "source": [
    "print(\"The number of trainable weights before freezing the conv base: \", len(model_3.trainable_weights))"
   ]
  },
  {
   "cell_type": "code",
   "execution_count": 36,
   "metadata": {
    "execution": {
     "iopub.execute_input": "2021-06-19T08:05:30.858280Z",
     "iopub.status.busy": "2021-06-19T08:05:30.857992Z",
     "iopub.status.idle": "2021-06-19T08:05:30.865343Z",
     "shell.execute_reply": "2021-06-19T08:05:30.864464Z",
     "shell.execute_reply.started": "2021-06-19T08:05:30.858254Z"
    }
   },
   "outputs": [
    {
     "name": "stdout",
     "output_type": "stream",
     "text": [
      "The number of trainable weights after freezing the conv base:  4\n"
     ]
    }
   ],
   "source": [
    "conv_base.trainable = False\n",
    "\n",
    "print(\"The number of trainable weights after freezing the conv base: \", len(model_3.trainable_weights))"
   ]
  },
  {
   "cell_type": "markdown",
   "metadata": {},
   "source": [
    "Fine Tuning : Freezing layers of conv_base upto specific one\n",
    "\n",
    "<div class=\"alert alert-block alert-info\">\n",
    "📌 Fine-tuning consists of unfreezing a few of the top layers of frozen model base used for feature extraction and jointly training both the newly added part of the model(in this case, the FCC) and these top layers. This is called fine-tuning because it slightly adjusts the more abstract representations of the model being reused, in order to make them more relevant for the problem.\n",
    "</div>"
   ]
  },
  {
   "cell_type": "code",
   "execution_count": 37,
   "metadata": {
    "execution": {
     "iopub.execute_input": "2021-06-19T08:05:30.867889Z",
     "iopub.status.busy": "2021-06-19T08:05:30.866780Z",
     "iopub.status.idle": "2021-06-19T08:05:30.874775Z",
     "shell.execute_reply": "2021-06-19T08:05:30.873328Z",
     "shell.execute_reply.started": "2021-06-19T08:05:30.867799Z"
    }
   },
   "outputs": [],
   "source": [
    "conv_base.trainable = True\n",
    "\n",
    "set_trainable = False\n",
    "\n",
    "for layer in conv_base.layers:\n",
    "    \n",
    "    if layer.name == 'block5_conv1':\n",
    "        \n",
    "        set_trainable = True\n",
    "        \n",
    "    if set_trainable:\n",
    "        \n",
    "        layer.trainable = True\n",
    "        \n",
    "    else:\n",
    "        \n",
    "        layer.trainable = False"
   ]
  },
  {
   "cell_type": "markdown",
   "metadata": {},
   "source": [
    "Callbacks"
   ]
  },
  {
   "cell_type": "code",
   "execution_count": 38,
   "metadata": {
    "execution": {
     "iopub.execute_input": "2021-06-19T08:05:30.876372Z",
     "iopub.status.busy": "2021-06-19T08:05:30.875807Z",
     "iopub.status.idle": "2021-06-19T08:05:30.882372Z",
     "shell.execute_reply": "2021-06-19T08:05:30.881594Z",
     "shell.execute_reply.started": "2021-06-19T08:05:30.876301Z"
    }
   },
   "outputs": [],
   "source": [
    "from keras.callbacks import EarlyStopping, ReduceLROnPlateau"
   ]
  },
  {
   "cell_type": "markdown",
   "metadata": {},
   "source": [
    "To prevent over fitting we will stop the learning after 10 epochs and val_loss value not decreased"
   ]
  },
  {
   "cell_type": "code",
   "execution_count": 39,
   "metadata": {
    "execution": {
     "iopub.execute_input": "2021-06-19T08:05:30.884136Z",
     "iopub.status.busy": "2021-06-19T08:05:30.883733Z",
     "iopub.status.idle": "2021-06-19T08:05:30.892252Z",
     "shell.execute_reply": "2021-06-19T08:05:30.891460Z",
     "shell.execute_reply.started": "2021-06-19T08:05:30.884099Z"
    }
   },
   "outputs": [],
   "source": [
    "earlystop = EarlyStopping(patience=10)"
   ]
  },
  {
   "cell_type": "code",
   "execution_count": 40,
   "metadata": {
    "execution": {
     "iopub.execute_input": "2021-06-19T08:05:30.893922Z",
     "iopub.status.busy": "2021-06-19T08:05:30.893530Z",
     "iopub.status.idle": "2021-06-19T08:05:30.901207Z",
     "shell.execute_reply": "2021-06-19T08:05:30.900382Z",
     "shell.execute_reply.started": "2021-06-19T08:05:30.893885Z"
    }
   },
   "outputs": [],
   "source": [
    "learning_rate_reduction = ReduceLROnPlateau(monitor='val_acc', \n",
    "                                            patience=2, \n",
    "                                            verbose=1, \n",
    "                                            factor=0.5, \n",
    "                                            min_lr=0.00001)"
   ]
  },
  {
   "cell_type": "code",
   "execution_count": 41,
   "metadata": {
    "execution": {
     "iopub.execute_input": "2021-06-19T08:05:30.904151Z",
     "iopub.status.busy": "2021-06-19T08:05:30.903908Z",
     "iopub.status.idle": "2021-06-19T08:05:30.910019Z",
     "shell.execute_reply": "2021-06-19T08:05:30.909114Z",
     "shell.execute_reply.started": "2021-06-19T08:05:30.904126Z"
    }
   },
   "outputs": [],
   "source": [
    "callbacks = [earlystop, learning_rate_reduction]"
   ]
  },
  {
   "cell_type": "code",
   "execution_count": 42,
   "metadata": {
    "execution": {
     "iopub.execute_input": "2021-06-19T08:05:30.911808Z",
     "iopub.status.busy": "2021-06-19T08:05:30.911247Z",
     "iopub.status.idle": "2021-06-19T08:05:30.928612Z",
     "shell.execute_reply": "2021-06-19T08:05:30.927758Z",
     "shell.execute_reply.started": "2021-06-19T08:05:30.911774Z"
    }
   },
   "outputs": [],
   "source": [
    "model_3.compile(loss = 'binary_crossentropy', optimizer = optimizers.RMSprop(learning_rate = 1e-5), metrics =['acc'])"
   ]
  },
  {
   "cell_type": "markdown",
   "metadata": {},
   "source": [
    "# **5. FIT THE MODEL ONTO THE TRAINING DATA** 📈"
   ]
  },
  {
   "cell_type": "markdown",
   "metadata": {},
   "source": [
    "MODEL 1"
   ]
  },
  {
   "cell_type": "code",
   "execution_count": 43,
   "metadata": {
    "execution": {
     "iopub.execute_input": "2021-06-19T08:05:30.931813Z",
     "iopub.status.busy": "2021-06-19T08:05:30.931542Z",
     "iopub.status.idle": "2021-06-19T08:05:30.936418Z",
     "shell.execute_reply": "2021-06-19T08:05:30.934617Z",
     "shell.execute_reply.started": "2021-06-19T08:05:30.931789Z"
    }
   },
   "outputs": [],
   "source": [
    "from PIL import Image"
   ]
  },
  {
   "cell_type": "code",
   "execution_count": 44,
   "metadata": {
    "execution": {
     "iopub.execute_input": "2021-06-19T08:05:30.939437Z",
     "iopub.status.busy": "2021-06-19T08:05:30.939176Z",
     "iopub.status.idle": "2021-06-19T08:10:22.366452Z",
     "shell.execute_reply": "2021-06-19T08:10:22.365646Z",
     "shell.execute_reply.started": "2021-06-19T08:05:30.939412Z"
    }
   },
   "outputs": [
    {
     "ename": "TypeError",
     "evalue": "Protocols cannot be instantiated",
     "output_type": "error",
     "traceback": [
      "\u001b[1;31m---------------------------------------------------------------------------\u001b[0m",
      "\u001b[1;31mTypeError\u001b[0m                                 Traceback (most recent call last)",
      "\u001b[1;32m~\\AppData\\Local\\Temp/ipykernel_18508/38451975.py\u001b[0m in \u001b[0;36m<module>\u001b[1;34m\u001b[0m\n\u001b[1;32m----> 1\u001b[1;33m history_1 = model_1.fit(\n\u001b[0m\u001b[0;32m      2\u001b[0m             \u001b[0mtrain_generator_m1\u001b[0m\u001b[1;33m,\u001b[0m\u001b[1;33m\u001b[0m\u001b[1;33m\u001b[0m\u001b[0m\n\u001b[0;32m      3\u001b[0m \u001b[1;33m\u001b[0m\u001b[0m\n\u001b[0;32m      4\u001b[0m             \u001b[0mepochs\u001b[0m \u001b[1;33m=\u001b[0m \u001b[1;36m30\u001b[0m\u001b[1;33m,\u001b[0m\u001b[1;33m\u001b[0m\u001b[1;33m\u001b[0m\u001b[0m\n\u001b[0;32m      5\u001b[0m \u001b[1;33m\u001b[0m\u001b[0m\n",
      "\u001b[1;32m~\\anaconda3\\envs\\abhay_venv\\lib\\site-packages\\keras\\utils\\traceback_utils.py\u001b[0m in \u001b[0;36merror_handler\u001b[1;34m(*args, **kwargs)\u001b[0m\n\u001b[0;32m     65\u001b[0m     \u001b[1;32mexcept\u001b[0m \u001b[0mException\u001b[0m \u001b[1;32mas\u001b[0m \u001b[0me\u001b[0m\u001b[1;33m:\u001b[0m  \u001b[1;31m# pylint: disable=broad-except\u001b[0m\u001b[1;33m\u001b[0m\u001b[1;33m\u001b[0m\u001b[0m\n\u001b[0;32m     66\u001b[0m       \u001b[0mfiltered_tb\u001b[0m \u001b[1;33m=\u001b[0m \u001b[0m_process_traceback_frames\u001b[0m\u001b[1;33m(\u001b[0m\u001b[0me\u001b[0m\u001b[1;33m.\u001b[0m\u001b[0m__traceback__\u001b[0m\u001b[1;33m)\u001b[0m\u001b[1;33m\u001b[0m\u001b[1;33m\u001b[0m\u001b[0m\n\u001b[1;32m---> 67\u001b[1;33m       \u001b[1;32mraise\u001b[0m \u001b[0me\u001b[0m\u001b[1;33m.\u001b[0m\u001b[0mwith_traceback\u001b[0m\u001b[1;33m(\u001b[0m\u001b[0mfiltered_tb\u001b[0m\u001b[1;33m)\u001b[0m \u001b[1;32mfrom\u001b[0m \u001b[1;32mNone\u001b[0m\u001b[1;33m\u001b[0m\u001b[1;33m\u001b[0m\u001b[0m\n\u001b[0m\u001b[0;32m     68\u001b[0m     \u001b[1;32mfinally\u001b[0m\u001b[1;33m:\u001b[0m\u001b[1;33m\u001b[0m\u001b[1;33m\u001b[0m\u001b[0m\n\u001b[0;32m     69\u001b[0m       \u001b[1;32mdel\u001b[0m \u001b[0mfiltered_tb\u001b[0m\u001b[1;33m\u001b[0m\u001b[1;33m\u001b[0m\u001b[0m\n",
      "\u001b[1;32m~\\anaconda3\\envs\\abhay_venv\\lib\\typing.py\u001b[0m in \u001b[0;36m_no_init\u001b[1;34m(self, *args, **kwargs)\u001b[0m\n\u001b[0;32m   1081\u001b[0m \u001b[1;33m\u001b[0m\u001b[0m\n\u001b[0;32m   1082\u001b[0m \u001b[1;32mdef\u001b[0m \u001b[0m_no_init\u001b[0m\u001b[1;33m(\u001b[0m\u001b[0mself\u001b[0m\u001b[1;33m,\u001b[0m \u001b[1;33m*\u001b[0m\u001b[0margs\u001b[0m\u001b[1;33m,\u001b[0m \u001b[1;33m**\u001b[0m\u001b[0mkwargs\u001b[0m\u001b[1;33m)\u001b[0m\u001b[1;33m:\u001b[0m\u001b[1;33m\u001b[0m\u001b[1;33m\u001b[0m\u001b[0m\n\u001b[1;32m-> 1083\u001b[1;33m     \u001b[1;32mraise\u001b[0m \u001b[0mTypeError\u001b[0m\u001b[1;33m(\u001b[0m\u001b[1;34m'Protocols cannot be instantiated'\u001b[0m\u001b[1;33m)\u001b[0m\u001b[1;33m\u001b[0m\u001b[1;33m\u001b[0m\u001b[0m\n\u001b[0m\u001b[0;32m   1084\u001b[0m \u001b[1;33m\u001b[0m\u001b[0m\n\u001b[0;32m   1085\u001b[0m \u001b[1;33m\u001b[0m\u001b[0m\n",
      "\u001b[1;31mTypeError\u001b[0m: Protocols cannot be instantiated"
     ]
    }
   ],
   "source": [
    "history_1 = model_1.fit(\n",
    "            train_generator_m1,\n",
    "    \n",
    "            epochs = 30,\n",
    "    \n",
    "            steps_per_epoch = 100,\n",
    "            \n",
    "            validation_data = validation_generator_m1,\n",
    "    \n",
    "            validation_steps = 50\n",
    "            )"
   ]
  },
  {
   "cell_type": "code",
   "execution_count": null,
   "metadata": {
    "execution": {
     "iopub.execute_input": "2021-06-19T08:10:22.368552Z",
     "iopub.status.busy": "2021-06-19T08:10:22.368207Z",
     "iopub.status.idle": "2021-06-19T08:10:22.376059Z",
     "shell.execute_reply": "2021-06-19T08:10:22.375133Z",
     "shell.execute_reply.started": "2021-06-19T08:10:22.368513Z"
    }
   },
   "outputs": [],
   "source": [
    "print(np.mean(history_1.history['acc']))"
   ]
  },
  {
   "cell_type": "code",
   "execution_count": null,
   "metadata": {
    "execution": {
     "iopub.execute_input": "2021-06-19T08:10:22.377720Z",
     "iopub.status.busy": "2021-06-19T08:10:22.377355Z",
     "iopub.status.idle": "2021-06-19T08:10:22.386063Z",
     "shell.execute_reply": "2021-06-19T08:10:22.384877Z",
     "shell.execute_reply.started": "2021-06-19T08:10:22.377669Z"
    }
   },
   "outputs": [],
   "source": [
    "print(np.mean(history_1.history['val_acc']))"
   ]
  },
  {
   "cell_type": "markdown",
   "metadata": {},
   "source": [
    "Saving the model"
   ]
  },
  {
   "cell_type": "code",
   "execution_count": null,
   "metadata": {
    "execution": {
     "iopub.execute_input": "2021-06-19T08:10:22.388063Z",
     "iopub.status.busy": "2021-06-19T08:10:22.387494Z",
     "iopub.status.idle": "2021-06-19T08:10:22.454024Z",
     "shell.execute_reply": "2021-06-19T08:10:22.453119Z",
     "shell.execute_reply.started": "2021-06-19T08:10:22.388007Z"
    }
   },
   "outputs": [],
   "source": [
    "model_1.save('model_1.h5')"
   ]
  },
  {
   "cell_type": "markdown",
   "metadata": {},
   "source": [
    "**Visualizing Loss and accuracy during training 📊**"
   ]
  },
  {
   "cell_type": "code",
   "execution_count": null,
   "metadata": {
    "execution": {
     "iopub.execute_input": "2021-06-19T08:10:22.455758Z",
     "iopub.status.busy": "2021-06-19T08:10:22.455397Z",
     "iopub.status.idle": "2021-06-19T08:10:22.713928Z",
     "shell.execute_reply": "2021-06-19T08:10:22.713102Z",
     "shell.execute_reply.started": "2021-06-19T08:10:22.455718Z"
    }
   },
   "outputs": [],
   "source": [
    "plt.plot(history_1.history['acc'], color = 'black')\n",
    "\n",
    "plt.plot(history_1.history['val_acc'], color = 'blue')\n",
    "\n",
    "plt.title('Training and validation accuracy of model 1')\n",
    "\n",
    "plt.xlabel('Epochs')\n",
    "\n",
    "plt.ylabel('Accuracy')\n",
    "\n",
    "plt.show()\n",
    "\n",
    "plt.plot(history_1.history['loss'], color = 'black')\n",
    "\n",
    "plt.plot(history_1.history['val_loss'], color = 'blue')\n",
    "\n",
    "plt.title('Training and validation loss of model 1')\n",
    "\n",
    "plt.xlabel('Epochs')\n",
    "\n",
    "plt.ylabel('Accuracy')\n",
    "\n",
    "plt.show()"
   ]
  },
  {
   "cell_type": "markdown",
   "metadata": {},
   "source": [
    "MODEL 2"
   ]
  },
  {
   "cell_type": "code",
   "execution_count": null,
   "metadata": {
    "execution": {
     "iopub.execute_input": "2021-06-19T08:10:22.715435Z",
     "iopub.status.busy": "2021-06-19T08:10:22.715112Z",
     "iopub.status.idle": "2021-06-19T08:28:17.861164Z",
     "shell.execute_reply": "2021-06-19T08:28:17.860308Z",
     "shell.execute_reply.started": "2021-06-19T08:10:22.715400Z"
    }
   },
   "outputs": [],
   "source": [
    "history_2 = model_2.fit(\n",
    "            train_generator_m2,\n",
    "    \n",
    "            epochs = 100,\n",
    "    \n",
    "            steps_per_epoch = 100,\n",
    "            \n",
    "            validation_data = validation_generator_m2,\n",
    "    \n",
    "            validation_steps = 50,\n",
    "    \n",
    "            callbacks = [earlystop, learning_rate_reduction]\n",
    "            )"
   ]
  },
  {
   "cell_type": "code",
   "execution_count": null,
   "metadata": {
    "execution": {
     "iopub.execute_input": "2021-06-19T08:28:17.863567Z",
     "iopub.status.busy": "2021-06-19T08:28:17.862916Z",
     "iopub.status.idle": "2021-06-19T08:28:17.869241Z",
     "shell.execute_reply": "2021-06-19T08:28:17.868487Z",
     "shell.execute_reply.started": "2021-06-19T08:28:17.863524Z"
    }
   },
   "outputs": [],
   "source": [
    "print(np.mean(history_2.history['acc']))"
   ]
  },
  {
   "cell_type": "code",
   "execution_count": null,
   "metadata": {
    "execution": {
     "iopub.execute_input": "2021-06-19T08:28:17.871246Z",
     "iopub.status.busy": "2021-06-19T08:28:17.870620Z",
     "iopub.status.idle": "2021-06-19T08:28:17.883520Z",
     "shell.execute_reply": "2021-06-19T08:28:17.882439Z",
     "shell.execute_reply.started": "2021-06-19T08:28:17.871209Z"
    }
   },
   "outputs": [],
   "source": [
    "print(np.mean(history_2.history['val_acc']))"
   ]
  },
  {
   "cell_type": "code",
   "execution_count": null,
   "metadata": {
    "execution": {
     "iopub.execute_input": "2021-06-19T08:28:17.885755Z",
     "iopub.status.busy": "2021-06-19T08:28:17.885079Z",
     "iopub.status.idle": "2021-06-19T08:28:17.980060Z",
     "shell.execute_reply": "2021-06-19T08:28:17.979088Z",
     "shell.execute_reply.started": "2021-06-19T08:28:17.885718Z"
    }
   },
   "outputs": [],
   "source": [
    "model_2.save('model_2.h5')"
   ]
  },
  {
   "cell_type": "code",
   "execution_count": null,
   "metadata": {
    "execution": {
     "iopub.execute_input": "2021-06-19T08:28:17.986001Z",
     "iopub.status.busy": "2021-06-19T08:28:17.985635Z",
     "iopub.status.idle": "2021-06-19T08:28:18.387589Z",
     "shell.execute_reply": "2021-06-19T08:28:18.386804Z",
     "shell.execute_reply.started": "2021-06-19T08:28:17.985960Z"
    }
   },
   "outputs": [],
   "source": [
    "plt.plot(history_2.history['acc'], color = 'black')\n",
    "\n",
    "plt.plot(history_2.history['val_acc'], color = 'blue')\n",
    "\n",
    "plt.title('Training and validation accuracy of model 2')\n",
    "\n",
    "plt.xlabel('Epochs')\n",
    "\n",
    "plt.ylabel('Accuracy')\n",
    "\n",
    "plt.show()\n",
    "\n",
    "plt.plot(history_2.history['loss'], color = 'black')\n",
    "\n",
    "plt.plot(history_2.history['val_loss'], color = 'blue')\n",
    "\n",
    "plt.title('Training and validation loss of model 2')\n",
    "\n",
    "plt.xlabel('Epochs')\n",
    "\n",
    "plt.ylabel('Accuracy')\n",
    "\n",
    "plt.show()"
   ]
  },
  {
   "cell_type": "markdown",
   "metadata": {},
   "source": [
    "MODEL 3"
   ]
  },
  {
   "cell_type": "markdown",
   "metadata": {},
   "source": [
    "Using the same ImageGenerators of model 2"
   ]
  },
  {
   "cell_type": "code",
   "execution_count": null,
   "metadata": {
    "execution": {
     "iopub.execute_input": "2021-06-19T08:28:18.389185Z",
     "iopub.status.busy": "2021-06-19T08:28:18.388751Z",
     "iopub.status.idle": "2021-06-19T10:20:38.845572Z",
     "shell.execute_reply": "2021-06-19T10:20:38.844495Z",
     "shell.execute_reply.started": "2021-06-19T08:28:18.389151Z"
    }
   },
   "outputs": [],
   "source": [
    "history_3 = model_3.fit(\n",
    "            train_generator_m2,\n",
    "    \n",
    "            epochs = 30,\n",
    "    \n",
    "            steps_per_epoch = 100,\n",
    "            \n",
    "            validation_data = validation_generator_m2,\n",
    "    \n",
    "            validation_steps = 50,\n",
    "            \n",
    "            callbacks = callbacks\n",
    "            )"
   ]
  },
  {
   "cell_type": "code",
   "execution_count": null,
   "metadata": {
    "execution": {
     "iopub.execute_input": "2021-06-19T10:20:38.847526Z",
     "iopub.status.busy": "2021-06-19T10:20:38.847199Z",
     "iopub.status.idle": "2021-06-19T10:20:38.859156Z",
     "shell.execute_reply": "2021-06-19T10:20:38.858395Z",
     "shell.execute_reply.started": "2021-06-19T10:20:38.847490Z"
    }
   },
   "outputs": [],
   "source": [
    "print(np.mean(history_3.history['acc']))"
   ]
  },
  {
   "cell_type": "code",
   "execution_count": null,
   "metadata": {
    "execution": {
     "iopub.execute_input": "2021-06-19T10:20:38.860748Z",
     "iopub.status.busy": "2021-06-19T10:20:38.860431Z",
     "iopub.status.idle": "2021-06-19T10:20:38.877740Z",
     "shell.execute_reply": "2021-06-19T10:20:38.877023Z",
     "shell.execute_reply.started": "2021-06-19T10:20:38.860714Z"
    }
   },
   "outputs": [],
   "source": [
    "print(np.mean(history_3.history['val_acc']))"
   ]
  },
  {
   "cell_type": "code",
   "execution_count": null,
   "metadata": {
    "execution": {
     "iopub.execute_input": "2021-06-19T10:20:38.878962Z",
     "iopub.status.busy": "2021-06-19T10:20:38.878631Z",
     "iopub.status.idle": "2021-06-19T10:20:39.140623Z",
     "shell.execute_reply": "2021-06-19T10:20:39.139800Z",
     "shell.execute_reply.started": "2021-06-19T10:20:38.878932Z"
    }
   },
   "outputs": [],
   "source": [
    "model_3.save('model_3.h5')"
   ]
  },
  {
   "cell_type": "code",
   "execution_count": null,
   "metadata": {
    "execution": {
     "iopub.execute_input": "2021-06-19T10:20:39.146714Z",
     "iopub.status.busy": "2021-06-19T10:20:39.144776Z",
     "iopub.status.idle": "2021-06-19T10:20:39.430889Z",
     "shell.execute_reply": "2021-06-19T10:20:39.430163Z",
     "shell.execute_reply.started": "2021-06-19T10:20:39.146661Z"
    }
   },
   "outputs": [],
   "source": [
    "plt.plot(history_3.history['acc'], color = 'black')\n",
    "\n",
    "plt.plot(history_3.history['val_acc'], color = 'blue')\n",
    "\n",
    "plt.title('Training and validation accuracy of model 3')\n",
    "\n",
    "plt.xlabel('Epochs')\n",
    "\n",
    "plt.ylabel('Accuracy')\n",
    "\n",
    "plt.show()\n",
    "\n",
    "plt.plot(history_3.history['loss'], color = 'black')\n",
    "\n",
    "plt.plot(history_3.history['val_loss'], color = 'blue')\n",
    "\n",
    "plt.title('Training and validation loss of model 3')\n",
    "\n",
    "plt.xlabel('Epochs')\n",
    "\n",
    "plt.ylabel('Accuracy')\n",
    "\n",
    "plt.show()"
   ]
  },
  {
   "cell_type": "markdown",
   "metadata": {},
   "source": [
    "# **6. PREPARE TESTING DATASET AND VISULAIZE IT** 📷"
   ]
  },
  {
   "cell_type": "code",
   "execution_count": null,
   "metadata": {
    "execution": {
     "iopub.execute_input": "2021-06-19T10:20:39.432315Z",
     "iopub.status.busy": "2021-06-19T10:20:39.432004Z",
     "iopub.status.idle": "2021-06-19T10:20:39.436576Z",
     "shell.execute_reply": "2021-06-19T10:20:39.435538Z",
     "shell.execute_reply.started": "2021-06-19T10:20:39.432280Z"
    }
   },
   "outputs": [],
   "source": [
    "from tensorflow.keras.models import load_model"
   ]
  },
  {
   "cell_type": "code",
   "execution_count": null,
   "metadata": {
    "execution": {
     "iopub.execute_input": "2021-06-19T10:20:39.438316Z",
     "iopub.status.busy": "2021-06-19T10:20:39.437980Z",
     "iopub.status.idle": "2021-06-19T10:20:39.714412Z",
     "shell.execute_reply": "2021-06-19T10:20:39.713605Z",
     "shell.execute_reply.started": "2021-06-19T10:20:39.438282Z"
    }
   },
   "outputs": [],
   "source": [
    "model = load_model('model_3.h5')"
   ]
  },
  {
   "cell_type": "code",
   "execution_count": null,
   "metadata": {
    "execution": {
     "iopub.execute_input": "2021-06-19T10:20:39.715973Z",
     "iopub.status.busy": "2021-06-19T10:20:39.715623Z",
     "iopub.status.idle": "2021-06-19T10:20:39.731419Z",
     "shell.execute_reply": "2021-06-19T10:20:39.730751Z",
     "shell.execute_reply.started": "2021-06-19T10:20:39.715937Z"
    }
   },
   "outputs": [],
   "source": [
    "test_filenames = os.listdir('./test1')\n",
    "\n",
    "test_df = pd.DataFrame(\n",
    "         {\n",
    "             'id' : test_filenames\n",
    "         } \n",
    "         )"
   ]
  },
  {
   "cell_type": "code",
   "execution_count": null,
   "metadata": {
    "execution": {
     "iopub.execute_input": "2021-06-19T10:20:39.733005Z",
     "iopub.status.busy": "2021-06-19T10:20:39.732633Z",
     "iopub.status.idle": "2021-06-19T10:20:39.741609Z",
     "shell.execute_reply": "2021-06-19T10:20:39.740660Z",
     "shell.execute_reply.started": "2021-06-19T10:20:39.732969Z"
    }
   },
   "outputs": [],
   "source": [
    "test_df.head()"
   ]
  },
  {
   "cell_type": "code",
   "execution_count": null,
   "metadata": {
    "execution": {
     "iopub.execute_input": "2021-06-19T10:20:39.743550Z",
     "iopub.status.busy": "2021-06-19T10:20:39.743164Z",
     "iopub.status.idle": "2021-06-19T10:20:39.777661Z",
     "shell.execute_reply": "2021-06-19T10:20:39.776780Z",
     "shell.execute_reply.started": "2021-06-19T10:20:39.743513Z"
    }
   },
   "outputs": [],
   "source": [
    "test_gen = ImageDataGenerator(rescale = 1./255)\n",
    "\n",
    "test_generator = test_gen.flow_from_dataframe(    \n",
    "                    test_df,\n",
    "    \n",
    "                    \"./test1\", \n",
    "                    \n",
    "                    x_col='id',\n",
    "    \n",
    "                    y_col=None,\n",
    "                    \n",
    "                    target_size = (150, 150), # resize image to 150x150\n",
    "                    \n",
    "                    batch_size = 20,\n",
    "    \n",
    "                    class_mode = None,\n",
    "    \n",
    "                    shuffle=False,\n",
    "    \n",
    "                    validate_filenames=False\n",
    "                  )"
   ]
  },
  {
   "cell_type": "markdown",
   "metadata": {},
   "source": [
    "# **7. PREDICTING ON TESTING DATA** 📈🤞"
   ]
  },
  {
   "cell_type": "code",
   "execution_count": null,
   "metadata": {
    "execution": {
     "iopub.execute_input": "2021-06-19T10:20:39.779134Z",
     "iopub.status.busy": "2021-06-19T10:20:39.778814Z",
     "iopub.status.idle": "2021-06-19T10:30:25.407823Z",
     "shell.execute_reply": "2021-06-19T10:30:25.406789Z",
     "shell.execute_reply.started": "2021-06-19T10:20:39.779101Z"
    }
   },
   "outputs": [],
   "source": [
    "predictions = model.predict(test_generator)"
   ]
  },
  {
   "cell_type": "code",
   "execution_count": null,
   "metadata": {
    "execution": {
     "iopub.execute_input": "2021-06-19T10:30:25.409752Z",
     "iopub.status.busy": "2021-06-19T10:30:25.409371Z",
     "iopub.status.idle": "2021-06-19T10:30:25.452173Z",
     "shell.execute_reply": "2021-06-19T10:30:25.451348Z",
     "shell.execute_reply.started": "2021-06-19T10:30:25.409710Z"
    }
   },
   "outputs": [],
   "source": [
    "pred = [1 if p > 0.5 else 0 for p in predictions]\n",
    "\n",
    "test_df['category'] = pred"
   ]
  },
  {
   "cell_type": "code",
   "execution_count": null,
   "metadata": {
    "execution": {
     "iopub.execute_input": "2021-06-19T10:30:25.453978Z",
     "iopub.status.busy": "2021-06-19T10:30:25.453542Z",
     "iopub.status.idle": "2021-06-19T10:30:25.581308Z",
     "shell.execute_reply": "2021-06-19T10:30:25.580315Z",
     "shell.execute_reply.started": "2021-06-19T10:30:25.453929Z"
    }
   },
   "outputs": [],
   "source": [
    "test_df['category'].value_counts().plot.bar()"
   ]
  },
  {
   "cell_type": "code",
   "execution_count": null,
   "metadata": {
    "execution": {
     "iopub.execute_input": "2021-06-19T10:30:25.583108Z",
     "iopub.status.busy": "2021-06-19T10:30:25.582734Z",
     "iopub.status.idle": "2021-06-19T10:30:25.590600Z",
     "shell.execute_reply": "2021-06-19T10:30:25.589580Z",
     "shell.execute_reply.started": "2021-06-19T10:30:25.583069Z"
    }
   },
   "outputs": [],
   "source": [
    "label_map = dict((v,k) for k,v in train_generator_m2.class_indices.items())\n",
    "\n",
    "test_df['category'] = test_df['category'].replace(label_map)"
   ]
  },
  {
   "cell_type": "code",
   "execution_count": null,
   "metadata": {
    "execution": {
     "iopub.execute_input": "2021-06-19T10:30:25.592356Z",
     "iopub.status.busy": "2021-06-19T10:30:25.591821Z",
     "iopub.status.idle": "2021-06-19T10:30:25.608144Z",
     "shell.execute_reply": "2021-06-19T10:30:25.607286Z",
     "shell.execute_reply.started": "2021-06-19T10:30:25.592316Z"
    }
   },
   "outputs": [],
   "source": [
    "test_df['category'] = test_df['category'].replace({ 'dog': 1, 'cat': 0 })"
   ]
  },
  {
   "cell_type": "code",
   "execution_count": null,
   "metadata": {
    "execution": {
     "iopub.execute_input": "2021-06-19T10:30:25.609883Z",
     "iopub.status.busy": "2021-06-19T10:30:25.609468Z",
     "iopub.status.idle": "2021-06-19T10:30:25.732461Z",
     "shell.execute_reply": "2021-06-19T10:30:25.731477Z",
     "shell.execute_reply.started": "2021-06-19T10:30:25.609842Z"
    }
   },
   "outputs": [],
   "source": [
    "test_df['category'].value_counts().plot.bar()"
   ]
  },
  {
   "cell_type": "markdown",
   "metadata": {},
   "source": [
    "# **8. SUBMISSION** ✌🙌🎉"
   ]
  },
  {
   "cell_type": "code",
   "execution_count": null,
   "metadata": {
    "execution": {
     "iopub.execute_input": "2021-06-19T10:30:25.734185Z",
     "iopub.status.busy": "2021-06-19T10:30:25.733839Z",
     "iopub.status.idle": "2021-06-19T10:30:25.999431Z",
     "shell.execute_reply": "2021-06-19T10:30:25.998557Z",
     "shell.execute_reply.started": "2021-06-19T10:30:25.734149Z"
    }
   },
   "outputs": [],
   "source": [
    "submission_df = test_df.copy()\n",
    "\n",
    "submission_df['id'] = submission_df['id'].str.split('.').str[0]\n",
    "\n",
    "submission_df['label'] = submission_df['category']\n",
    "\n",
    "submission_df.drop(['id', 'category'], axis=1, inplace=True)\n",
    "\n",
    "submission_df.to_csv('submission.csv', index=False)"
   ]
  }
 ],
 "metadata": {
  "kernelspec": {
   "display_name": "Python 3",
   "language": "python",
   "name": "python3"
  },
  "language_info": {
   "codemirror_mode": {
    "name": "ipython",
    "version": 3
   },
   "file_extension": ".py",
   "mimetype": "text/x-python",
   "name": "python",
   "nbconvert_exporter": "python",
   "pygments_lexer": "ipython3",
   "version": "3.8.8"
  }
 },
 "nbformat": 4,
 "nbformat_minor": 4
}
